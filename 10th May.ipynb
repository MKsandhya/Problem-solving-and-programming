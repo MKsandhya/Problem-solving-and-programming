{
 "cells": [
  {
   "cell_type": "markdown",
   "metadata": {},
   "source": [
    "# Problem 1\n",
    "\n",
    "## Problem Statement\n",
    "Designing procedures for Basic Arithmetic operations\n",
    "\n",
    "### Constraints\n",
    "\n",
    "#### Test cases\n",
    "\n",
    "\n",
    "#### Explanation"
   ]
  },
  {
   "cell_type": "code",
   "execution_count": 9,
   "metadata": {},
   "outputs": [
    {
     "name": "stdout",
     "output_type": "stream",
     "text": [
      "6\n"
     ]
    }
   ],
   "source": [
    "def Counting(Number):\n",
    "    Count = 0\n",
    "    while(Number > 0):\n",
    "        Number = Number // 10\n",
    "        Count = Count + 1\n",
    "    print(Count)\n",
    "Counting(123456)"
   ]
  },
  {
   "cell_type": "markdown",
   "metadata": {},
   "source": [
    "# Problem 2\n",
    "\n",
    "## Problem Statement\n",
    "Procedure to check if a given number is a Perfect Number.\n",
    "\n",
    "### Constraints\n",
    "\n",
    "#### Test cases\n",
    "\n",
    "\n",
    "#### Explanation"
   ]
  },
  {
   "cell_type": "code",
   "execution_count": 11,
   "metadata": {},
   "outputs": [
    {
     "name": "stdout",
     "output_type": "stream",
     "text": [
      "Enter any number: 12\n",
      "The number is not a Perfect number!\n"
     ]
    }
   ],
   "source": [
    "n = int(input(\"Enter any number: \"))\n",
    "sum1 = 0\n",
    "for i in range(1, n):\n",
    "    if(n % i == 0):\n",
    "        sum1 = sum1 + i\n",
    "if (sum1 == n):\n",
    "    print(\"The number is a Perfect number!\")\n",
    "else:\n",
    "    print(\"The number is not a Perfect number!\")"
   ]
  },
  {
   "cell_type": "markdown",
   "metadata": {},
   "source": [
    "# Problem 3\n",
    "\n",
    "## Problem Statement\n",
    "Procedure to generate the first N perfect numbers\n",
    "\n",
    "### Constraints\n",
    "\n",
    "#### Test cases\n",
    "\n",
    "\n",
    "#### Explanation"
   ]
  },
  {
   "cell_type": "code",
   "execution_count": 23,
   "metadata": {},
   "outputs": [
    {
     "ename": "SyntaxError",
     "evalue": "invalid syntax (<ipython-input-23-7ffe15f0cc10>, line 1)",
     "output_type": "error",
     "traceback": [
      "\u001b[1;36m  File \u001b[1;32m\"<ipython-input-23-7ffe15f0cc10>\"\u001b[1;36m, line \u001b[1;32m1\u001b[0m\n\u001b[1;33m    n=int(input(\"Enter a number\")):\u001b[0m\n\u001b[1;37m                                  ^\u001b[0m\n\u001b[1;31mSyntaxError\u001b[0m\u001b[1;31m:\u001b[0m invalid syntax\n"
     ]
    }
   ],
   "source": [
    "n=int(input(\"Enter a number\")):\n",
    "    \n",
    "\n",
    "    for i in range(1, n):\n",
    "        if(n%i == 0):\n",
    "            print(n)\n",
    "            n=n+1\n"
   ]
  },
  {
   "cell_type": "markdown",
   "metadata": {},
   "source": [
    "# Problem 4\n",
    "\n",
    "## Problem Statement\n",
    "\n",
    "Power of a given number\n",
    "\n",
    "### Constraints\n",
    "\n",
    "#### Test cases\n",
    "\n",
    "\n",
    "#### Explanation"
   ]
  },
  {
   "cell_type": "code",
   "execution_count": 3,
   "metadata": {},
   "outputs": [
    {
     "data": {
      "text/plain": [
       "8"
      ]
     },
     "execution_count": 3,
     "metadata": {},
     "output_type": "execute_result"
    }
   ],
   "source": [
    "def recursivePower(n, r):\n",
    "    if r ==1:\n",
    "        return n\n",
    "    else:\n",
    "        return recursivePower(n, r-1) * n\n",
    "recursivePower(2, 3)"
   ]
  },
  {
   "cell_type": "markdown",
   "metadata": {},
   "source": [
    "# Problem 4\n",
    "\n",
    "## Problem Statement\n",
    "\n",
    "Power of a given number\n",
    "\n",
    "### Constraints\n",
    "\n",
    "#### Test cases\n",
    "\n",
    "\n",
    "#### Explanation"
   ]
  },
  {
   "cell_type": "code",
   "execution_count": 2,
   "metadata": {},
   "outputs": [
    {
     "data": {
      "text/plain": [
       "36"
      ]
     },
     "execution_count": 2,
     "metadata": {},
     "output_type": "execute_result"
    }
   ],
   "source": [
    "def gcdRecursive(a, b):\n",
    "    r  = b % a\n",
    "    while r != 0:\n",
    "        b = a\n",
    "        a = r\n",
    "    return b\n",
    "gcdRecursive(12,36)"
   ]
  },
  {
   "cell_type": "markdown",
   "metadata": {},
   "source": [
    "# Problem 3\n",
    "\n",
    "## Problem Statement\n",
    " Towers of Hanoi\n",
    "\n",
    "### Constraints\n",
    "\n",
    "#### Test cases\n",
    "\n",
    "\n",
    "#### Explanation"
   ]
  },
  {
   "cell_type": "code",
   "execution_count": 1,
   "metadata": {},
   "outputs": [
    {
     "name": "stdout",
     "output_type": "stream",
     "text": [
      "move 1 disk from A to C\n",
      "move 2 disk from A to B\n",
      "move 1 disk from C to B\n",
      "move 3 disk from A to C\n",
      "move 1 disk from B to A\n",
      "move 2 disk from B to C\n",
      "move 1 disk from A to C\n"
     ]
    }
   ],
   "source": [
    "def towerOfHanoi(n, source, temp, dest):\n",
    "    if n == 1:\n",
    "        print('move', n, 'disk from', source, 'to', dest)\n",
    "        return\n",
    "    else:\n",
    "        towerOfHanoi(n-1, source, dest, temp)\n",
    "        print('move', n, 'disk from', source, 'to', dest)\n",
    "        towerOfHanoi(n-1, temp, source, dest)\n",
    "        return\n",
    "towerOfHanoi(3, 'A', 'B', 'C')\n",
    "        \n",
    "    "
   ]
  },
  {
   "cell_type": "markdown",
   "metadata": {},
   "source": [
    "# Problem 3\n",
    "\n",
    "## Problem Statement\n",
    " Define a function to identity the number of times a substring is repeating in a given string\n",
    "\n",
    "### Constraints\n",
    "\n",
    "#### Test cases\n",
    "\n",
    "\n",
    "#### Explanation"
   ]
  },
  {
   "cell_type": "code",
   "execution_count": 7,
   "metadata": {},
   "outputs": [
    {
     "name": "stdout",
     "output_type": "stream",
     "text": [
      "4\n"
     ]
    }
   ],
   "source": [
    "# Simple python program to count  \n",
    "# occurrences of pat in txt. \n",
    "def countFreq(pat, txt): \n",
    "    M = len(pat) \n",
    "    N = len(txt) \n",
    "    res = 0\n",
    "      \n",
    "    # A loop to slide pat[] one by one  \n",
    "    for i in range(N - M + 1): \n",
    "          \n",
    "        # For current index i, check  \n",
    "        # for pattern match  \n",
    "        j = 0\n",
    "        for j in range(M): \n",
    "            if (txt[i + j] != pat[j]): \n",
    "                break\n",
    "  \n",
    "        if (j == M - 1): \n",
    "            res += 1\n",
    "            j = 0\n",
    "    return res\n",
    "# Driver Code \n",
    "if __name__ == '__main__': \n",
    "    txt = \"gitamcollegegicolgi\"\n",
    "    pat = \"gi\"\n",
    "    print(countFreq(pat, txt)) "
   ]
  },
  {
   "cell_type": "code",
   "execution_count": 8,
   "metadata": {},
   "outputs": [
    {
     "name": "stdout",
     "output_type": "stream",
     "text": [
      "2\n"
     ]
    }
   ],
   "source": [
    "string=\"gitamforgitam\"\n",
    "print(string.count(\"it\"))"
   ]
  },
  {
   "cell_type": "code",
   "execution_count": null,
   "metadata": {},
   "outputs": [],
   "source": []
  }
 ],
 "metadata": {
  "kernelspec": {
   "display_name": "Python 3",
   "language": "python",
   "name": "python3"
  },
  "language_info": {
   "codemirror_mode": {
    "name": "ipython",
    "version": 3
   },
   "file_extension": ".py",
   "mimetype": "text/x-python",
   "name": "python",
   "nbconvert_exporter": "python",
   "pygments_lexer": "ipython3",
   "version": "3.7.3"
  }
 },
 "nbformat": 4,
 "nbformat_minor": 2
}
